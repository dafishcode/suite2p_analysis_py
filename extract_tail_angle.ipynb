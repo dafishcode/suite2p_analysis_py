{
 "cells": [
  {
   "cell_type": "code",
   "execution_count": 50,
   "metadata": {},
   "outputs": [],
   "source": [
    "import pandas as pd\n",
    "import numpy as np\n",
    "from tqdm import tqdm\n",
    "import os\n",
    "from pathlib import Path\n",
    "import argparse\n",
    "from scipy.spatial import distance\n",
    "from math import factorial, atan2, degrees, acos, sqrt, pi\n",
    "import matplotlib.pyplot as plt\n",
    "from astropy.convolution import convolve, Gaussian1DKernel, Box1DKernel\n",
    "from scipy.signal  import find_peaks\n",
    "%matplotlib inline\n",
    "from Skeleton_functions import *"
   ]
  },
  {
   "cell_type": "code",
   "execution_count": 51,
   "metadata": {},
   "outputs": [],
   "source": [
    "skeleton = [['body', 'tail_1'], ['tail_1', 'tail_2'], ['tail_2', 'tail_3'], ['tail_3', 'tail_4'], ['tail_4','tail_5'], ['tail_5', 'tail_6'], ['tail_6','tail_tip']]"
   ]
  },
  {
   "cell_type": "code",
   "execution_count": 52,
   "metadata": {},
   "outputs": [],
   "source": [
    "Data_folder = \"../head_fixed_training_data/Processed_data/\"\n",
    "Prefix_list = [\"190712_DC_WT_GR_7dpf_F2\", \"190712_DC_WT_GR_7dpf_F3\", \"190712_DC_WT_NR_7dpf_F1\", \"190719_DC_WT_NR_7dpf_F1\"]\n",
    "Prefix = Prefix_list [3]"
   ]
  },
  {
   "cell_type": "code",
   "execution_count": 53,
   "metadata": {},
   "outputs": [],
   "source": [
    "Dataframe = pd.read_hdf(Data_folder + Prefix + \"/\" + Prefix + \"_stimDLC_resnet50_runningSep18shuffle1_250000.h5\")"
   ]
  },
  {
   "cell_type": "code",
   "execution_count": 54,
   "metadata": {},
   "outputs": [],
   "source": [
    "import numpy as np\n",
    "from scipy.signal import butter, lfilter, freqz\n",
    "from matplotlib import pyplot as plt\n",
    "\n",
    "\n",
    "def butter_lowpass(cutoff, fs, order=5):\n",
    "    nyq = 0.5 * fs\n",
    "    normal_cutoff = cutoff / nyq\n",
    "    b, a = butter(order, normal_cutoff, btype='low', analog=False)\n",
    "    return b, a\n",
    "\n",
    "\n",
    "def butter_lowpass_filter(data, cutoff, fs, order=5):\n",
    "    b, a = butter_lowpass(cutoff, fs, order=order)\n",
    "    y = lfilter(b, a, data)\n",
    "    return y"
   ]
  },
  {
   "cell_type": "code",
   "execution_count": 55,
   "metadata": {},
   "outputs": [],
   "source": [
    "angle = get_tail_angle(Dataframe = Dataframe, skel =skeleton)\n",
    "np.save(arr=angle, file=Data_folder + Prefix + \"/\" + Prefix + \"_tail_angle\")"
   ]
  },
  {
   "cell_type": "code",
   "execution_count": 56,
   "metadata": {},
   "outputs": [],
   "source": [
    "def segement_responses(trace):\n",
    "    return(np.array(convolve( (trace **4), Gaussian1DKernel(10))> 2000))\n",
    "    "
   ]
  },
  {
   "cell_type": "code",
   "execution_count": 57,
   "metadata": {},
   "outputs": [],
   "source": [
    "#def segement_responses(trace):\n",
    "#    return(np.array(convolve(np.diff(trace)**2, Gaussian1DKernel(10))> 2000))"
   ]
  },
  {
   "cell_type": "code",
   "execution_count": 58,
   "metadata": {},
   "outputs": [],
   "source": [
    "segs_mask = segement_responses(np.array(angle))\n",
    "#segs_mask = erode(segs_mask, size = 10, thresh = 0.9)"
   ]
  },
  {
   "cell_type": "code",
   "execution_count": 59,
   "metadata": {},
   "outputs": [],
   "source": [
    "def trace_to_segments(segs_mask, angle):\n",
    "    segs = np.where(np.diff(segs_mask != 0))[0]+1\n",
    "    mask_segments = np.split(ary = np.array(segs_mask), indices_or_sections=segs)\n",
    "    response = np.array([np.max(x) for x in mask_segments])\n",
    "    angle_segments = np.array(np.split(ary = angle, indices_or_sections=segs))[response]\n",
    "    return(angle_segments)"
   ]
  },
  {
   "cell_type": "code",
   "execution_count": 60,
   "metadata": {},
   "outputs": [],
   "source": [
    "def angle_in_segment(a):\n",
    "    peaks, _ = find_peaks(a, distance=5, height=5, width=2, prominence=4)\n",
    "    mins, _ = find_peaks(a*-1, distance=5, height=5, width=2, prominence =4)\n",
    "    if len(peaks)!= 0 and len(mins) == 0:\n",
    "        return(np.array(a.iloc [peaks].index) [0], np.array(a.iloc [peaks])[0])\n",
    "\n",
    "    if len(peaks) == 0 and len(mins) != 0:\n",
    "        return(np.array(a.iloc [mins].index) [0], np.array(a.iloc [mins])[0])\n",
    "\n",
    "    if len(peaks) > 0 and len(mins) > 0:\n",
    "        if np.array(a.iloc [peaks].index) [0] < np.array(a.iloc [mins].index) [0]:\n",
    "            return(np.array(a.iloc [peaks].index) [0], np.array(a.iloc [peaks])[0])\n",
    "        else:\n",
    "            return(np.array(a.iloc [mins].index) [0], np.array(a.iloc [mins])[0])"
   ]
  },
  {
   "cell_type": "code",
   "execution_count": 61,
   "metadata": {},
   "outputs": [],
   "source": [
    "def plot_mm_segment(segment):\n",
    "    a = segment\n",
    "    plt.plot(a)\n",
    "    a_s = angle_in_segment(a)\n",
    "    plt.plot(a_s [0], a_s [1], \"o\",markersize = 10, alpha = 0.6)\n",
    "    print(a_s)\n"
   ]
  },
  {
   "cell_type": "code",
   "execution_count": 62,
   "metadata": {},
   "outputs": [],
   "source": [
    "def time_by_first_bout_angle(angle=angle,segs_mask= segs_mask):\n",
    "    a = trace_to_segments(angle=angle,segs_mask= segs_mask)\n",
    "    appended_data = []\n",
    "    for segs in a:\n",
    "        appended_data.append(angle_in_segment(segs))\n",
    "    df = pd.DataFrame(appended_data, columns= [\"Time_frame\", \"First_tail_angle\"])\n",
    "    return(df)"
   ]
  },
  {
   "cell_type": "code",
   "execution_count": 63,
   "metadata": {},
   "outputs": [],
   "source": [
    "time_by_angle = time_by_first_bout_angle()"
   ]
  },
  {
   "cell_type": "code",
   "execution_count": 64,
   "metadata": {},
   "outputs": [],
   "source": [
    "t = np.zeros(len(angle))"
   ]
  },
  {
   "cell_type": "code",
   "execution_count": 65,
   "metadata": {},
   "outputs": [
    {
     "data": {
      "text/plain": [
       "0     56\n",
       "1    184\n",
       "2    301\n",
       "3    735\n",
       "Name: Time_frame, dtype: int64"
      ]
     },
     "execution_count": 65,
     "metadata": {},
     "output_type": "execute_result"
    }
   ],
   "source": [
    "time_by_angle [\"Time_frame\"]"
   ]
  },
  {
   "cell_type": "code",
   "execution_count": 66,
   "metadata": {},
   "outputs": [],
   "source": [
    "#t [time_by_angle [\"Time_frame\"]] = time_by_angle [\"First_tail_angle\"]"
   ]
  },
  {
   "cell_type": "code",
   "execution_count": 67,
   "metadata": {},
   "outputs": [
    {
     "data": {
      "text/plain": [
       "[<matplotlib.lines.Line2D at 0x7fef251789e8>]"
      ]
     },
     "execution_count": 67,
     "metadata": {},
     "output_type": "execute_result"
    },
    {
     "data": {
      "image/png": "[encoded data removed]",
      "text/plain": [
       "<Figure size 1440x720 with 1 Axes>"
      ]
     },
     "metadata": {
      "needs_background": "light"
     },
     "output_type": "display_data"
    }
   ],
   "source": [
    "plt.figure(figsize = (20,10))\n",
    "#plt.plot(t ,  linewidth=5)\n",
    "plt.plot(angle , alpha = 0.4)"
   ]
  },
  {
   "cell_type": "code",
   "execution_count": 68,
   "metadata": {},
   "outputs": [],
   "source": [
    "#np.save(arr=t, file=Data_folder + Prefix + \"/\" + Prefix + \"_first_turn_angle_zp\")"
   ]
  },
  {
   "cell_type": "code",
   "execution_count": 69,
   "metadata": {},
   "outputs": [],
   "source": [
    "np.save(arr=time_by_angle, file=Data_folder + Prefix + \"/\" + Prefix + \"_first_turn_angle_DF\")"
   ]
  },
  {
   "cell_type": "code",
   "execution_count": null,
   "metadata": {},
   "outputs": [],
   "source": []
  }
 ],
 "metadata": {
  "kernelspec": {
   "display_name": "Python 3",
   "language": "python",
   "name": "python3"
  },
  "language_info": {
   "codemirror_mode": {
    "name": "ipython",
    "version": 3
   },
   "file_extension": ".py",
   "mimetype": "text/x-python",
   "name": "python",
   "nbconvert_exporter": "python",
   "pygments_lexer": "ipython3",
   "version": "3.7.0"
  }
 },
 "nbformat": 4,
 "nbformat_minor": 2
}
