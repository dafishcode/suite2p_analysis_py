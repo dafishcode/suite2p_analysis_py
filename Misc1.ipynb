{
 "cells": [
  {
   "cell_type": "code",
   "execution_count": 1,
   "metadata": {},
   "outputs": [
    {
     "name": "stderr",
     "output_type": "stream",
     "text": [
      "/Users/dominicburrows/anaconda3/lib/python3.7/_collections_abc.py:841: MatplotlibDeprecationWarning: \n",
      "The examples.directory rcparam was deprecated in Matplotlib 3.0 and will be removed in 3.2. In the future, examples will be found relative to the 'datapath' directory.\n",
      "  self[key] = other[key]\n",
      "/Users/dominicburrows/anaconda3/lib/python3.7/_collections_abc.py:841: MatplotlibDeprecationWarning: \n",
      "The savefig.frameon rcparam was deprecated in Matplotlib 3.1 and will be removed in 3.3.\n",
      "  self[key] = other[key]\n",
      "/Users/dominicburrows/anaconda3/lib/python3.7/_collections_abc.py:841: MatplotlibDeprecationWarning: \n",
      "The text.latex.unicode rcparam was deprecated in Matplotlib 3.0 and will be removed in 3.2.\n",
      "  self[key] = other[key]\n",
      "/Users/dominicburrows/anaconda3/lib/python3.7/_collections_abc.py:841: MatplotlibDeprecationWarning: \n",
      "The verbose.fileo rcparam was deprecated in Matplotlib 3.1 and will be removed in 3.3.\n",
      "  self[key] = other[key]\n",
      "/Users/dominicburrows/anaconda3/lib/python3.7/_collections_abc.py:841: MatplotlibDeprecationWarning: \n",
      "The verbose.level rcparam was deprecated in Matplotlib 3.1 and will be removed in 3.3.\n",
      "  self[key] = other[key]\n"
     ]
    }
   ],
   "source": [
    "import sys\n",
    "import seaborn as sns\n",
    "import os\n",
    "import glob\n",
    "from matplotlib import pyplot as plt\n",
    "import numpy as np\n",
    "import avalanches as crfn\n",
    "import admin_functions as adfn\n",
    "import plot as pltfn\n",
    "from kuramoto1 import Kuramoto\n",
    "from scipy import stats \n",
    "\n",
    "sns.reset_orig()\n",
    "#plt.style.use('dark_background')\n",
    "\n",
    "%load_ext autoreload\n",
    "%autoreload\n",
    "\n",
    "# Define paths\n",
    "#---------------------------------------------------------------------------\n",
    "Fdrop = '/Users/dominicburrows/Dropbox/PhD/analysis/'\n",
    "Fmac = '/Users/dominicburrows/Documents/'\n",
    "F10t = '/Volumes/Dominic 10tb/'\n",
    "Ffig = '/Users/dominicburrows/Dropbox/PhD/figures/'\n",
    "Ftm = '/Volumes/Dominic Time Machine/'"
   ]
  },
  {
   "cell_type": "code",
   "execution_count": 24,
   "metadata": {},
   "outputs": [
    {
     "name": "stdout",
     "output_type": "stream",
     "text": [
      "PTZ-WILDTYPE-02_2photon_sess-01-6dpf_BLN_run-01_marglik_logn.npy(200, 5)\n",
      "PTZ-WILDTYPE-02_2photon_sess-01-6dpf_BLN_run-01_marglik_power.npy(200, 4)\n",
      "PTZ-WILDTYPE-03_2photon_sess-01-6dpf_BLN_run-01_marglik_logn.npy(200,)\n",
      "150\n",
      "PTZ-WILDTYPE-03_2photon_sess-01-6dpf_BLN_run-01_marglik_power.npy(200,)\n",
      "150\n",
      "PTZ-WILDTYPE-04_2photon_sess-01-6dpf_BLN_run-01_marglik_logn.npy(200, 5)\n",
      "PTZ-WILDTYPE-04_2photon_sess-01-6dpf_BLN_run-01_marglik_power.npy(200, 4)\n",
      "PTZ-WILDTYPE-05_2photon_sess-01-6dpf_BLN_run-01_marglik_logn.npy(200, 5)\n",
      "PTZ-WILDTYPE-05_2photon_sess-01-6dpf_BLN_run-01_marglik_power.npy(200, 4)\n",
      "PTZ-WILDTYPE-06_2photon_sess-01-6dpf_BLN_run-01_marglik_logn.npy(200, 5)\n",
      "PTZ-WILDTYPE-06_2photon_sess-01-6dpf_BLN_run-01_marglik_power.npy(200, 4)\n",
      "PTZ-WILDTYPE-07_2photon_sess-01-6dpf_BLN_run-01_marglik_logn.npy(200, 5)\n",
      "PTZ-WILDTYPE-07_2photon_sess-01-6dpf_BLN_run-01_marglik_power.npy(200, 4)\n",
      "PTZ-WILDTYPE-08_2photon_sess-01-6dpf_BLN_run-01_marglik_logn.npy(200, 5)\n",
      "PTZ-WILDTYPE-08_2photon_sess-01-6dpf_BLN_run-01_marglik_power.npy(200, 4)\n",
      "PTZ-WILDTYPE-09_2photon_sess-01-6dpf_BLN_run-01_marglik_logn.npy(200, 5)\n",
      "PTZ-WILDTYPE-09_2photon_sess-01-6dpf_BLN_run-01_marglik_power.npy(200, 4)\n",
      "PTZ-WILDTYPE-10_2photon_sess-01-6dpf_BLN_run-01_marglik_logn.npy(200,)\n",
      "180\n",
      "PTZ-WILDTYPE-10_2photon_sess-01-6dpf_BLN_run-01_marglik_power.npy(200,)\n",
      "180\n",
      "PTZ-WILDTYPE-11_2photon_sess-01-6dpf_BLN_run-01_marglik_logn.npy(200, 5)\n",
      "PTZ-WILDTYPE-11_2photon_sess-01-6dpf_BLN_run-01_marglik_power.npy(200, 4)\n",
      "PTZ-WILDTYPE-12_2photon_sess-01-6dpf_BLN_run-09_marglik_logn.npy(200, 5)\n",
      "PTZ-WILDTYPE-12_2photon_sess-01-6dpf_BLN_run-09_marglik_power.npy(200, 4)\n"
     ]
    }
   ],
   "source": [
    "for i in range(len(liklist)):\n",
    "    print(liklist[i] + str(np.load(liklist[i],allow_pickle=True).shape))\n",
    "    prac = np.load(liklist[i], allow_pickle=True)\n",
    "    for i in range(prac.shape[0]):\n",
    "        if type(prac[i]) is int:\n",
    "            print(i)\n",
    "            break"
   ]
  },
  {
   "cell_type": "code",
   "execution_count": 21,
   "metadata": {},
   "outputs": [
    {
     "name": "stdout",
     "output_type": "stream",
     "text": [
      "150\n"
     ]
    }
   ],
   "source": [
    "prac = np.load(liklist[2], allow_pickle=True)\n",
    "for i in range(prac.shape[0]):\n",
    "    if type(prac[i]) is int:\n",
    "        print(i)\n",
    "        break"
   ]
  },
  {
   "cell_type": "code",
   "execution_count": 18,
   "metadata": {},
   "outputs": [
    {
     "data": {
      "text/plain": [
       "True"
      ]
     },
     "execution_count": 18,
     "metadata": {},
     "output_type": "execute_result"
    }
   ],
   "source": [
    "type(prac[160]) is int"
   ]
  },
  {
   "cell_type": "code",
   "execution_count": 3,
   "metadata": {},
   "outputs": [
    {
     "data": {
      "text/plain": [
       "[]"
      ]
     },
     "execution_count": 3,
     "metadata": {},
     "output_type": "execute_result"
    }
   ],
   "source": [
    "# PLOT - average whole brain fluorescence\n",
    "#----------------------------------------\n",
    "experiment = 'PTZ-WILDTYPE'\n",
    "os.chdir(F10t + 'Project/' + experiment)\n",
    "liklist = sorted(glob.glob('*marglik*'))\n",
    "avlist = sorted(glob.glob('*_av.npy*'))\n",
    "liklist"
   ]
  },
  {
   "cell_type": "code",
   "execution_count": 5,
   "metadata": {},
   "outputs": [
    {
     "data": {
      "text/plain": [
       "['03']"
      ]
     },
     "execution_count": 5,
     "metadata": {},
     "output_type": "execute_result"
    }
   ],
   "source": [
    "num1 = adfn.name_zero('front', 3,3,1)\n",
    "num1"
   ]
  },
  {
   "cell_type": "code",
   "execution_count": null,
   "metadata": {},
   "outputs": [
    {
     "name": "stdout",
     "output_type": "stream",
     "text": [
      "Done param 0for fish PTZ-WILDTYPE-03_2photon_sess-01-6dpf_BLN_run-01\n"
     ]
    }
   ],
   "source": [
    "for i in num1:\n",
    "    avlist =  sorted(glob.glob('*-' + i + '*BLN*nnbav.npy'))[150:180]\n",
    "    powerlist = list(range(30))\n",
    "    lognlist = list(range(30))\n",
    "    for e in range(len(avlist)):\n",
    "        data = np.load(avlist[e])\n",
    "        sizes=data[0,:]\n",
    "        M=len(sizes)\n",
    "        a=min(sizes) #define xmin\n",
    "        b=max(sizes) #define xmax\n",
    "        npart = 2000 #number of particles - number of draws from prior distribution\n",
    "        ln=IS_LN(npart)\n",
    "        po=IS(npart)\n",
    "        powerlist[e] = po\n",
    "        lognlist[e] = ln\n",
    "        print('Done param ' + str(e) + 'for fish ' + adfn.name_template([avlist[e]], 'short'))\n",
    "    np.save(Fdrop + 'Project/' + experiment + os.sep + adfn.name_template([avlist[e]], 'short') + '_marglik_power150-180.npy', powerlist)\n",
    "    np.save(Fdrop + 'Project/' + experiment + os.sep + adfn.name_template([avlist[e]], 'short') + '_marglik_logn150-180.npy', lognlist)\n",
    "    print('Done fish ' + adfn.name_template([avlist[e]], 'short'))"
   ]
  },
  {
   "cell_type": "code",
   "execution_count": 4,
   "metadata": {},
   "outputs": [],
   "source": [
    "import numpy as np \n",
    "import scipy.stats as stat\n",
    "import matplotlib.pyplot as plt\n",
    "\n",
    "#Functional form for power law\n",
    "def powerlaw(n,lam):\n",
    "    zeta=np.sum(1.0/np.arange(a,b+1)**lam)\n",
    "    return(n**(-lam)/zeta)\n",
    "\n",
    "#Functional form for lognormal\n",
    "def lognormal(n,mu,sig):\n",
    "    return(1.0/n/np.sqrt(2*np.pi*sig**2)*np.exp(-(np.log(n)-mu)**2/(2*sig**2)))\n",
    "\n",
    "\n",
    "#Calculate loglikelihood for power law given the data\n",
    "#Loglikelihoods across all random draws, given your data\n",
    "def LogLikelihood(lam):\n",
    "    #normalisation factor for all lambda draw - normalises a distribution to sum of probability = 1\n",
    "    zetamat=np.power.outer(1.0/np.arange(a,b+1),lam) #Matrix of normalisation constants for each lambda draw: each row =  size**-current lambda, for every size from max to min\n",
    "    zeta=np.sum(zetamat,0) #Norm vector - sum of norm constants for entire max-min range at each lambda\n",
    "    norm=-M*np.log(zeta) #Contribution of zeta to the likelihood\n",
    "    nprod=-lam*np.sum(np.log(sizes)) #Loglikelihood calculation, given the data\n",
    "    loglik=nprod+norm #Normalised loglikelihood\n",
    "    return(loglik) \n",
    "\n",
    "#Calculate loglikelihood for lognormal\n",
    "#Loglikelihoods across all random draws, given your data\n",
    "def LogLikelihood_LN(mu,sig):\n",
    "    T1 = -np.sum(np.log(sizes))\n",
    "    T2_mat = np.subtract.outer(np.log(sizes),mu)**2\n",
    "    T2 = -np.sum(T2_mat,0)/(2*sig**2)\n",
    "    T0 = -M*np.log(np.sqrt(2*np.pi) * sig )\n",
    "    loglik=T0+T1+T2\n",
    "    return(loglik) \n",
    "\n",
    "\n",
    "#IMPORTANCE SAMPLER - for power law\n",
    "#OUTPUT - posterior average exponent, log marginal likelihood, effective sample size = how good is the sampler\n",
    "def IS(npart):\n",
    "    lambda_sample=np.random.uniform(0.1,5,npart) #randomly sample across possible lambda values\n",
    "\n",
    "    #Prior (norm) = shift random sample lambda values into a normal distribution of given range\n",
    "    #Proposal (uniform) = shift random sample lambda values into a uniform distribution of given range     \n",
    "    #Weights - weight the range of sample values for each distribution with the likelihood weights \n",
    "    #Prior value*likelihood divided by proposal value - cancel out the effect of the proposal\n",
    "    weights=LogLikelihood(lambda_sample)+stat.norm.logpdf(lambda_sample,1,3)-stat.uniform.logpdf(lambda_sample,0.1,5) #Log of weights\n",
    "    maxw=np.max(weights)\n",
    "    w2 = np.exp(weights-maxw)\n",
    "    w2_sum = np.sum(w2)\n",
    "    ESS=1.0/(np.sum((w2/w2_sum)**2))\n",
    "    mean_lambda = np.dot(lambda_sample,w2)/w2_sum #average of the lambda value for the posterior distribution\n",
    "    #marginal likelihood = empirical means of all the weights\n",
    "    marglik = maxw + np.log(np.sum(np.exp(weights-maxw)))-np.log(npart) #Take the exponent of logs to unlog, before summing/then divded by ncounts\n",
    "    return([mean_lambda, marglik, LogLikelihood(lambda_sample), ESS])\n",
    "\n",
    "#IMPORTANCE SAMPLER - for lognormal\n",
    "#OUTPUT - posterior average exponent, log marginal likelihood, effective sample size = how good is the sampler\n",
    "def IS_LN(npart):\n",
    "    mu_sample = np.random.uniform(-2.0,2.0,npart) #randomly sample across possible mu\n",
    "    sig_sample = np.random.uniform(0.1,5.0,npart) #randomly sample across possible sigma\n",
    "    weights=LogLikelihood_LN(mu_sample,sig_sample)\n",
    "    maxw=np.max(weights)\n",
    "    w2 = np.exp(weights-maxw)\n",
    "    w2_sum = np.sum(w2)\n",
    "    ESS=1.0/(np.sum((w2/w2_sum)**2))\n",
    "    wmax_ID=np.argmax(w2)\n",
    "    mean_mu = mu_sample[wmax_ID]\n",
    "    mean_sig = sig_sample[wmax_ID]\n",
    "    #marginal likelihood = empirical means of all the weights\n",
    "    marglik = maxw + np.log(np.sum(np.exp(weights-maxw)))-np.log(npart)\n",
    "    return([mean_mu,mean_sig, marglik,  LogLikelihood_LN(mu_sample, sig_sample), ESS])\n",
    "\n",
    "#find entire posterior dsitr - posterior distribution - range of values \n",
    "def plot_samples(npart):\n",
    "    lambda_sample=np.random.uniform(0.1,5,npart)\n",
    "    weights=LogLikelihood(lambda_sample)\n",
    "    maxw=np.max(weights)\n",
    "    w2 = np.exp(weights-maxw)\n",
    "    plt.hist(lambda_sample,weights=w2,bins=np.linspace(2.5,2.8))\n",
    "    plt.show()\n",
    "\n",
    "def plotcomp(lam,mu,sig):\n",
    "    x = np.linspace(a,b,40) \n",
    "    plt.hist(sizes,40,log=True,density=True)\n",
    "    plt.plot(x,powerlaw(x,lam))\n",
    "    plt.plot(x,lognormal(x,mu,sig))\n",
    "    plt.show()"
   ]
  },
  {
   "cell_type": "markdown",
   "metadata": {},
   "source": [
    "### Sliding window branching ratio - within window, above average for PTZ?\n"
   ]
  },
  {
   "cell_type": "code",
   "execution_count": null,
   "metadata": {},
   "outputs": [],
   "source": [
    "# PLOT - average whole brain fluorescence\n",
    "#----------------------------------------\n",
    "experiment = 'PTZ-WILDTYPE'\n",
    "os.chdir(F10t + 'Project/' + experiment)\n",
    "branchlist = sorted(glob.glob('*BLN*branch*'))\n",
    "branchlist"
   ]
  },
  {
   "cell_type": "code",
   "execution_count": null,
   "metadata": {},
   "outputs": [],
   "source": [
    "# Avalanche calculation\n",
    "#---------------------------------------------------------------------------\n",
    "num = adfn.name_zero('front', 5, 12, 1)\n",
    "for i in num:\n",
    "    binlist = sorted(glob.glob('*-' + i +  '*PTZ20*binarised.npy*'))[9:] #iterated list - binarised trace\n",
    "    nnblist = sorted(glob.glob('*-' + i + '*PTZ20*nnb.npy*')) \n",
    "    paramlist = [F10t, experiment]\n",
    "    for t in range(len(binlist)):\n",
    "        adfn.parallel(4, [nnblist, adfn.repeat_list(binlist[t], len(nnblist))], crfn.avalanche, paramlist)"
   ]
  },
  {
   "cell_type": "code",
   "execution_count": null,
   "metadata": {},
   "outputs": [],
   "source": [
    "# Branching ratio calculation\n",
    "#---------------------------------------------------------------------------\n",
    "paramlist = [F10t, experiment]\n",
    "adfn.parallel(4,[blnpkglist, blnavlist] ,crfn.branch, paramlist)"
   ]
  },
  {
   "cell_type": "code",
   "execution_count": null,
   "metadata": {},
   "outputs": [],
   "source": []
  }
 ],
 "metadata": {
  "kernelspec": {
   "display_name": "Python 3",
   "language": "python",
   "name": "python3"
  },
  "language_info": {
   "codemirror_mode": {
    "name": "ipython",
    "version": 3
   },
   "file_extension": ".py",
   "mimetype": "text/x-python",
   "name": "python",
   "nbconvert_exporter": "python",
   "pygments_lexer": "ipython3",
   "version": "3.7.2"
  }
 },
 "nbformat": 4,
 "nbformat_minor": 4
}
