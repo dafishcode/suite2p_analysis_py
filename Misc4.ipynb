{
 "cells": [
  {
   "cell_type": "code",
   "execution_count": 1,
   "metadata": {},
   "outputs": [],
   "source": [
    "def solution(total_lambs): \n",
    "    \n",
    "    #Function that calculates the next henchman LAMBs if being stingy\n",
    "    def stingy(hench_list):\n",
    "        \n",
    "        return(sum(hench_list[len(hench_list)-2:])) #Next henchman must have LAMBS = two henchmen below\n",
    "    \n",
    "    #Function that calculates the next henchman LAMBs if being generous\n",
    "    def generous(hench_list):\n",
    "        return(2*(hench_list[len(hench_list)-1])) #Next henchman must have 2x that of 1 henchman below\n",
    "\n",
    "    #for loop inputs\n",
    "    func_list = [stingy, generous] #iterate through each function\n",
    "    compare_list = list(range(2)) #empty list\n",
    "    \n",
    "    #iterate through each function \n",
    "    for e in range(2):\n",
    "        hench_list = [1] #initialise list - first henchman always has 1 LAMB\n",
    "        leftover = total_lambs #how many LAMBS are leftover\n",
    "        for i in range(total_lambs): #loop through each LAMB\n",
    "            new_value = func_list[e](hench_list) #calculate LAMBS for next henchman\n",
    "            \n",
    "            if leftover >= new_value and total_lambs!=1: #if there are LAMBS leftover\n",
    "                hench_list.append(new_value) #add next henchman LAMBS to list\n",
    "                leftover = total_lambs - sum(hench_list) #recalculate leftovers\n",
    "\n",
    "            else: #if not LAMBS leftover\n",
    "                #compare_list[e] = len(hench_list)\n",
    "                compare_list[e] = hench_list\n",
    "                #print(str(e))\n",
    "    \n",
    "    #Calculate difference \n",
    "    return(compare_list)\n",
    "    #return(compare_list[0] - compare_list[1])"
   ]
  },
  {
   "cell_type": "code",
   "execution_count": null,
   "metadata": {},
   "outputs": [],
   "source": [
    "for i in range(72028,1000000):\n",
    "    sol = solution(i)\n",
    "    for e in range(len(sol)):\n",
    "        if e == 0: name = 'stingy'\n",
    "        if e == 1: name = 'generous'\n",
    "        for t in range(len(sol[e])-1):\n",
    "            if sol[e][t+1] > 2*sol[e][t]:\n",
    "                print('error 2  ' + str(i) + ' ' + name)\n",
    "            if sol[e][t+1] < sum(sol[e][t-1:t+1]):\n",
    "                print('error 3' + str(i) + ' ' + name)"
   ]
  },
  {
   "cell_type": "code",
   "execution_count": 3,
   "metadata": {},
   "outputs": [
    {
     "data": {
      "text/plain": [
       "72027"
      ]
     },
     "execution_count": 3,
     "metadata": {},
     "output_type": "execute_result"
    }
   ],
   "source": [
    "i"
   ]
  },
  {
   "cell_type": "code",
   "execution_count": null,
   "metadata": {},
   "outputs": [],
   "source": []
  }
 ],
 "metadata": {
  "kernelspec": {
   "display_name": "Python 3",
   "language": "python",
   "name": "python3"
  },
  "language_info": {
   "codemirror_mode": {
    "name": "ipython",
    "version": 3
   },
   "file_extension": ".py",
   "mimetype": "text/x-python",
   "name": "python",
   "nbconvert_exporter": "python",
   "pygments_lexer": "ipython3",
   "version": "3.7.2"
  }
 },
 "nbformat": 4,
 "nbformat_minor": 4
}
