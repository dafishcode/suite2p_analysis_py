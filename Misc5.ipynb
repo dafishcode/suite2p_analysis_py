{
 "cells": [
  {
   "cell_type": "code",
   "execution_count": 1,
   "metadata": {},
   "outputs": [
    {
     "name": "stderr",
     "output_type": "stream",
     "text": [
      "/Users/dominicburrows/anaconda3/lib/python3.7/_collections_abc.py:841: MatplotlibDeprecationWarning: \n",
      "The examples.directory rcparam was deprecated in Matplotlib 3.0 and will be removed in 3.2. In the future, examples will be found relative to the 'datapath' directory.\n",
      "  self[key] = other[key]\n",
      "/Users/dominicburrows/anaconda3/lib/python3.7/_collections_abc.py:841: MatplotlibDeprecationWarning: \n",
      "The savefig.frameon rcparam was deprecated in Matplotlib 3.1 and will be removed in 3.3.\n",
      "  self[key] = other[key]\n",
      "/Users/dominicburrows/anaconda3/lib/python3.7/_collections_abc.py:841: MatplotlibDeprecationWarning: \n",
      "The text.latex.unicode rcparam was deprecated in Matplotlib 3.0 and will be removed in 3.2.\n",
      "  self[key] = other[key]\n",
      "/Users/dominicburrows/anaconda3/lib/python3.7/_collections_abc.py:841: MatplotlibDeprecationWarning: \n",
      "The verbose.fileo rcparam was deprecated in Matplotlib 3.1 and will be removed in 3.3.\n",
      "  self[key] = other[key]\n",
      "/Users/dominicburrows/anaconda3/lib/python3.7/_collections_abc.py:841: MatplotlibDeprecationWarning: \n",
      "The verbose.level rcparam was deprecated in Matplotlib 3.1 and will be removed in 3.3.\n",
      "  self[key] = other[key]\n"
     ]
    }
   ],
   "source": [
    "import sys\n",
    "import network as netfn\n",
    "import seaborn as sns\n",
    "import os\n",
    "import glob\n",
    "from matplotlib import pyplot as plt\n",
    "import numpy as np\n",
    "import plot as pltfn\n",
    "from sklearn.cluster import KMeans\n",
    "import admin_functions as adfn\n",
    "import networkx as nx\n",
    "#plt.style.use('dark_background')\n",
    "sns.reset_orig()\n",
    "%load_ext autoreload\n",
    "%autoreload\n",
    "\n",
    "# Define paths\n",
    "#---------------------------------------------------------------------------\n",
    "Fdrop = '/Users/dominicburrows/Dropbox/PhD/analysis/'\n",
    "Fmac = '/Users/dominicburrows/Documents/'\n",
    "F10t = '/Volumes/Dominic 10tb/'\n",
    "Ffig = '/Users/dominicburrows/Dropbox/PhD/figures/'\n",
    "Ftm = '/Volumes/Dominic Time Machine/'\n",
    "experiment = 'PTZ-WILDTYPE'\n",
    "savepath = Fdrop + 'Project/' + experiment + os.sep "
   ]
  },
  {
   "cell_type": "code",
   "execution_count": 11,
   "metadata": {},
   "outputs": [
    {
     "data": {
      "text/plain": [
       "4"
      ]
     },
     "execution_count": 11,
     "metadata": {},
     "output_type": "execute_result"
    }
   ],
   "source": [
    "# Create coordlist \n",
    "#If realcoord file has 5 columns & kcoord has 3 = ALREADY CLUSTERED\n",
    "#---------------------------------------------------------------------------\n",
    "experiment = 'PTZ-WILDTYPE'\n",
    "os.chdir(Fdrop + 'Project/' + experiment)\n",
    "prac = sorted(glob.glob('*PTZ*-cycles.npy'))\n",
    "ok = np.load(prac[0], allow_pickle=True)"
   ]
  },
  {
   "cell_type": "code",
   "execution_count": 22,
   "metadata": {},
   "outputs": [
    {
     "data": {
      "text/plain": [
       "['PTZ-WILDTYPE-02_2photon_sess-01-6dpf_PTZ20_run-01_cutrealtrace.npy',\n",
       " 'PTZ-WILDTYPE-03_2photon_sess-01-6dpf_PTZ20_run-01_cutrealtrace.npy',\n",
       " 'PTZ-WILDTYPE-04_2photon_sess-01-6dpf_PTZ20_run-01_cutrealtrace.npy',\n",
       " 'PTZ-WILDTYPE-05_2photon_sess-01-6dpf_PTZ20_run-01_cutrealtrace.npy',\n",
       " 'PTZ-WILDTYPE-06_2photon_sess-01-6dpf_PTZ20_run-01_cutrealtrace.npy',\n",
       " 'PTZ-WILDTYPE-07_2photon_sess-01-6dpf_PTZ20_run-01_cutrealtrace.npy',\n",
       " 'PTZ-WILDTYPE-08_2photon_sess-01-6dpf_PTZ20_run-01_cutrealtrace.npy',\n",
       " 'PTZ-WILDTYPE-09_2photon_sess-01-6dpf_PTZ20_run-01_cutrealtrace.npy',\n",
       " 'PTZ-WILDTYPE-10_2photon_sess-01-6dpf_PTZ20_run-01_cutrealtrace.npy',\n",
       " 'PTZ-WILDTYPE-11_2photon_sess-01-6dpf_PTZ20_run-01_cutrealtrace.npy',\n",
       " 'PTZ-WILDTYPE-12_2photon_sess-01-6dpf_PTZ20_run-01_cutrealtrace.npy']"
      ]
     },
     "execution_count": 22,
     "metadata": {},
     "output_type": "execute_result"
    }
   ],
   "source": [
    "# Create coordlist \n",
    "#If realcoord file has 5 columns & kcoord has 3 = ALREADY CLUSTERED\n",
    "#---------------------------------------------------------------------------\n",
    "experiment = 'PTZ-WILDTYPE'\n",
    "os.chdir(Fdrop + 'Project/' + experiment)\n",
    "blist = sorted(glob.glob('*BLN*cutrealtrace*'))\n",
    "p5list = sorted(glob.glob('*PTZ05*cutrealtrace*'))\n",
    "p20list = sorted(glob.glob('*PTZ20*cutrealtrace*'))\n",
    "p20list"
   ]
  },
  {
   "cell_type": "code",
   "execution_count": 21,
   "metadata": {},
   "outputs": [
    {
     "data": {
      "text/plain": [
       "array([3150784, 852554, 243051, 64056, 13269, 1790, 149, 0, 0, 0],\n",
       "      dtype=object)"
      ]
     },
     "execution_count": 21,
     "metadata": {},
     "output_type": "execute_result"
    }
   ],
   "source": [
    "#Small worldness calculation\n",
    "\n",
    "steps = 10\n",
    "listlist = [blist,p5list, p20list]\n",
    "\n",
    "for i in range(len(listlist)):\n",
    "    for e in range(len(listlist[i])):\n",
    "        trace = np.load(listlist[i][e])\n",
    "        cc, pl, sigma, omega = list(range(steps)),list(range(steps)),list(range(steps)),list(range(steps))\n",
    "        index = 0\n",
    "        comblist = list(range(4))\n",
    "        for cutoff in range(1, steps+1):\n",
    "\n",
    "            # Network construction\n",
    "            #=====================================================================\n",
    "            # Calculate correlation coefficient\n",
    "            #---------------------------------------------------------------------\n",
    "            A = np.corrcoef(trace) #correlation matrix of ktraces\n",
    "            np.fill_diagonal(A, 0) #fills diagonal with 0s (removes self correlation)\n",
    "    \n",
    "            # Binarise according to z cut off (zscore?)\n",
    "            #---------------------------------------------------------------------\n",
    "            bA = A > (cutoff / 10)\n",
    "    \n",
    "            # Generate Network x object GRAPH\n",
    "            #---------------------------------------------------------------------\n",
    "            G = nx.from_numpy_matrix(bA) #generates graph connected edges between nodes only above threshold correlation\n",
    "\n",
    "            # Calculate cycle density\n",
    "            #=====================================================================\n",
    "            cycs = nx.algorithms.cycle_basis(G) #returns list of complete cycles in data\n",
    "            cycn[index] = len(cycs)\n",
    "            no_E[index] = G.number_of_edges() #how many edges in network\n",
    "            if no_E[index] > 0: cycd[index] = len(cycs) / no_E[index]\n",
    "            else:        cycd[index] = 0\n",
    "            \n",
    "            cyc_vec = np.zeros(len(cycs))\n",
    "            for t in range(len(cycs)):\n",
    "                cyc_vec[t] = len(cycs[t])\n",
    "            cyclen[index] = np.unique(cyc_vec, return_counts=True)\n",
    "            \n",
    "            \n",
    "            index+=1\n",
    "        \n",
    "        comblist[0] = no_E\n",
    "        comblist[1] = cycn\n",
    "        comblist[2] = cycd\n",
    "        comblist[3] = cyclen\n",
    "        np.save(savepath + adfn.save_name(e, listlist[i]) + '-cycles.npy', comblist)\n",
    "        print('Done fish ' + adfn.save_name(e, listlist[i])  + '  #' + str(e))\n",
    "        \n"
   ]
  },
  {
   "cell_type": "code",
   "execution_count": null,
   "metadata": {},
   "outputs": [],
   "source": []
  }
 ],
 "metadata": {
  "kernelspec": {
   "display_name": "Python 3",
   "language": "python",
   "name": "python3"
  },
  "language_info": {
   "codemirror_mode": {
    "name": "ipython",
    "version": 3
   },
   "file_extension": ".py",
   "mimetype": "text/x-python",
   "name": "python",
   "nbconvert_exporter": "python",
   "pygments_lexer": "ipython3",
   "version": "3.7.2"
  }
 },
 "nbformat": 4,
 "nbformat_minor": 4
}
