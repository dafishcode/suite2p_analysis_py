{
 "cells": [
  {
   "cell_type": "code",
   "execution_count": 1,
   "metadata": {},
   "outputs": [
    {
     "name": "stderr",
     "output_type": "stream",
     "text": [
      "/Users/dominicburrows/anaconda3/lib/python3.7/_collections_abc.py:841: MatplotlibDeprecationWarning: \n",
      "The examples.directory rcparam was deprecated in Matplotlib 3.0 and will be removed in 3.2. In the future, examples will be found relative to the 'datapath' directory.\n",
      "  self[key] = other[key]\n",
      "/Users/dominicburrows/anaconda3/lib/python3.7/_collections_abc.py:841: MatplotlibDeprecationWarning: \n",
      "The savefig.frameon rcparam was deprecated in Matplotlib 3.1 and will be removed in 3.3.\n",
      "  self[key] = other[key]\n",
      "/Users/dominicburrows/anaconda3/lib/python3.7/_collections_abc.py:841: MatplotlibDeprecationWarning: \n",
      "The text.latex.unicode rcparam was deprecated in Matplotlib 3.0 and will be removed in 3.2.\n",
      "  self[key] = other[key]\n",
      "/Users/dominicburrows/anaconda3/lib/python3.7/_collections_abc.py:841: MatplotlibDeprecationWarning: \n",
      "The verbose.fileo rcparam was deprecated in Matplotlib 3.1 and will be removed in 3.3.\n",
      "  self[key] = other[key]\n",
      "/Users/dominicburrows/anaconda3/lib/python3.7/_collections_abc.py:841: MatplotlibDeprecationWarning: \n",
      "The verbose.level rcparam was deprecated in Matplotlib 3.1 and will be removed in 3.3.\n",
      "  self[key] = other[key]\n"
     ]
    }
   ],
   "source": [
    "import sys\n",
    "import seaborn as sns\n",
    "import os\n",
    "import glob\n",
    "from matplotlib import pyplot as plt\n",
    "import numpy as np\n",
    "import avalanches as crfn\n",
    "import admin_functions as adfn\n",
    "import plot as pltfn\n",
    "from kuramoto1 import Kuramoto\n",
    "from scipy import stats \n",
    "\n",
    "sns.reset_orig()\n",
    "#plt.style.use('dark_background')\n",
    "\n",
    "%load_ext autoreload\n",
    "%autoreload\n",
    "\n",
    "# Define paths\n",
    "#---------------------------------------------------------------------------\n",
    "Fdrop = '/Users/dominicburrows/Dropbox/PhD/analysis/'\n",
    "Fmac = '/Users/dominicburrows/Documents/'\n",
    "F10t = '/Volumes/Dominic 10tb/'\n",
    "Ffig = '/Users/dominicburrows/Dropbox/PhD/figures/'\n",
    "Ftm = '/Volumes/Dominic Time Machine/'"
   ]
  },
  {
   "cell_type": "code",
   "execution_count": 15,
   "metadata": {},
   "outputs": [],
   "source": [
    "# PLOT - average whole brain fluorescence\n",
    "#----------------------------------------\n",
    "experiment = 'PTZ-WILDTYPE'\n",
    "os.chdir(F10t + 'Project/' + experiment)\n",
    "blnlist = sorted(glob.glob('*E-09*BLN*nnbav.npy*'))\n",
    "p20list = sorted(glob.glob('*E-02*PTZ20*nnbav.npy*'))"
   ]
  },
  {
   "cell_type": "code",
   "execution_count": 24,
   "metadata": {},
   "outputs": [],
   "source": [
    "ok = np.load(blnlist[0])[0]"
   ]
  },
  {
   "cell_type": "code",
   "execution_count": 23,
   "metadata": {},
   "outputs": [],
   "source": [
    "ok1 = np.load(p20list[0])[0]"
   ]
  },
  {
   "cell_type": "code",
   "execution_count": 30,
   "metadata": {},
   "outputs": [
    {
     "data": {
      "text/plain": [
       "Ks_2sampResult(statistic=0.3967639208827925, pvalue=2.084945790925309e-09)"
      ]
     },
     "execution_count": 30,
     "metadata": {},
     "output_type": "execute_result"
    }
   ],
   "source": [
    "k = stats.ks_2samp(ok, ok1)\n",
    "k"
   ]
  },
  {
   "cell_type": "code",
   "execution_count": 33,
   "metadata": {},
   "outputs": [
    {
     "data": {
      "text/plain": [
       "[]"
      ]
     },
     "execution_count": 33,
     "metadata": {},
     "output_type": "execute_result"
    }
   ],
   "source": [
    "ks_sum = adfn.list_of_list(11,0)\n",
    "ks_sum[3]"
   ]
  },
  {
   "cell_type": "code",
   "execution_count": 35,
   "metadata": {},
   "outputs": [
    {
     "name": "stdout",
     "output_type": "stream",
     "text": [
      "Done fish02\n",
      "Done fish03\n",
      "Done fish04\n",
      "Done fish05\n",
      "Done fish06\n",
      "Done fish07\n",
      "Done fish08\n",
      "Done fish09\n",
      "Done fish10\n",
      "Done fish11\n",
      "Done fish12\n"
     ]
    }
   ],
   "source": [
    "#KSDISTANCE\n",
    "from scipy import stats\n",
    "experiment = 'PTZ-WILDTYPE'\n",
    "os.chdir(F10t + 'Project/' + experiment)\n",
    "num1 = adfn.name_zero('front', 2, 12,1)\n",
    "ks_sum = adfn.list_of_list(11,0)\n",
    "count=0\n",
    "for i in num1:\n",
    "    blnlist =  sorted(glob.glob('*E-*' + i + '*BLN*nnbav.npy*'))[:200]\n",
    "    p20list =  sorted(glob.glob('*E-*' + i + '*PTZ20*nnbav.npy*'))[:200]\n",
    "    ks_list = list(range(len(blnlist)))\n",
    "    for e in range(len(blnlist)):\n",
    "        bln,ptz = np.load(blnlist[e])[0], np.load(p20list[e])[0]\n",
    "        ks_list[e] = stats.ks_2samp(bln,ptz)\n",
    "    ks_sum[count] = ks_list\n",
    "    count+=1\n",
    "    print('Done fish' + str(i))"
   ]
  },
  {
   "cell_type": "code",
   "execution_count": null,
   "metadata": {},
   "outputs": [],
   "source": [
    "for i in range(len(avlist)):\n",
    "    crfn.branch(pkglist[i], avlist[i], Fdrop, experiment)"
   ]
  },
  {
   "cell_type": "code",
   "execution_count": null,
   "metadata": {},
   "outputs": [],
   "source": []
  }
 ],
 "metadata": {
  "kernelspec": {
   "display_name": "Python 3",
   "language": "python",
   "name": "python3"
  },
  "language_info": {
   "codemirror_mode": {
    "name": "ipython",
    "version": 3
   },
   "file_extension": ".py",
   "mimetype": "text/x-python",
   "name": "python",
   "nbconvert_exporter": "python",
   "pygments_lexer": "ipython3",
   "version": "3.7.2"
  }
 },
 "nbformat": 4,
 "nbformat_minor": 4
}
