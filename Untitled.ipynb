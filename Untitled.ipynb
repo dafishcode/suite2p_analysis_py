{
 "cells": [
  {
   "cell_type": "code",
   "execution_count": 121,
   "metadata": {},
   "outputs": [
    {
     "name": "stdout",
     "output_type": "stream",
     "text": [
      "The autoreload extension is already loaded. To reload it, use:\n",
      "  %reload_ext autoreload\n"
     ]
    },
    {
     "name": "stderr",
     "output_type": "stream",
     "text": [
      "/Users/dominicburrows/anaconda3/lib/python3.7/site-packages/matplotlib/__init__.py:855: MatplotlibDeprecationWarning: \n",
      "examples.directory is deprecated; in the future, examples will be found relative to the 'datapath' directory.\n",
      "  \"found relative to the 'datapath' directory.\".format(key))\n",
      "/Users/dominicburrows/anaconda3/lib/python3.7/site-packages/matplotlib/__init__.py:846: MatplotlibDeprecationWarning: \n",
      "The text.latex.unicode rcparam was deprecated in Matplotlib 2.2 and will be removed in 3.1.\n",
      "  \"2.2\", name=key, obj_type=\"rcparam\", addendum=addendum)\n"
     ]
    }
   ],
   "source": [
    "import sys\n",
    "import seaborn as sns\n",
    "import os\n",
    "import glob\n",
    "from matplotlib import pyplot as plt\n",
    "import numpy as np\n",
    "import avalanches as crfn\n",
    "import admin_functions as adfn\n",
    "import plot as pltfn\n",
    "from kuramoto1 import Kuramoto\n",
    "from scipy import stats \n",
    "\n",
    "sns.reset_orig()\n",
    "#plt.style.use('dark_background')\n",
    "\n",
    "%load_ext autoreload\n",
    "%autoreload\n",
    "\n",
    "# Define paths\n",
    "#---------------------------------------------------------------------------\n",
    "Fdrop = '/Users/dominicburrows/Dropbox/PhD/analysis/'\n",
    "Fmac = '/Users/dominicburrows/Documents/'\n",
    "F10t = '/Volumes/Dominic 10tb/'\n",
    "Ffig = '/Users/dominicburrows/Dropbox/PhD/figures/'\n",
    "Ftm = '/Volumes/Dominic Time Machine/'"
   ]
  },
  {
   "cell_type": "code",
   "execution_count": 113,
   "metadata": {},
   "outputs": [
    {
     "data": {
      "text/plain": [
       "['PTZ-WILDTYPE-02_2photon_sess-01-6dpf_BLN_run-01_branch.npy',\n",
       " 'PTZ-WILDTYPE-02_2photon_sess-01-6dpf_PTZ05_run-01_branch.npy',\n",
       " 'PTZ-WILDTYPE-02_2photon_sess-01-6dpf_PTZ20_run-01_branch.npy',\n",
       " 'PTZ-WILDTYPE-03_2photon_sess-01-6dpf_BLN_run-01_branch.npy',\n",
       " 'PTZ-WILDTYPE-03_2photon_sess-01-6dpf_PTZ05_run-01_branch.npy',\n",
       " 'PTZ-WILDTYPE-03_2photon_sess-01-6dpf_PTZ20_run-01_branch.npy',\n",
       " 'PTZ-WILDTYPE-04_2photon_sess-01-6dpf_BLN_run-01_branch.npy',\n",
       " 'PTZ-WILDTYPE-04_2photon_sess-01-6dpf_PTZ05_run-01_branch.npy',\n",
       " 'PTZ-WILDTYPE-04_2photon_sess-01-6dpf_PTZ20_run-01_branch.npy',\n",
       " 'PTZ-WILDTYPE-05_2photon_sess-01-6dpf_BLN_run-01_branch.npy',\n",
       " 'PTZ-WILDTYPE-05_2photon_sess-01-6dpf_PTZ05_run-01_branch.npy',\n",
       " 'PTZ-WILDTYPE-05_2photon_sess-01-6dpf_PTZ20_run-01_branch.npy',\n",
       " 'PTZ-WILDTYPE-06_2photon_sess-01-6dpf_BLN_run-01_branch.npy',\n",
       " 'PTZ-WILDTYPE-06_2photon_sess-01-6dpf_PTZ05_run-01_branch.npy',\n",
       " 'PTZ-WILDTYPE-06_2photon_sess-01-6dpf_PTZ20_run-01_branch.npy',\n",
       " 'PTZ-WILDTYPE-07_2photon_sess-01-6dpf_BLN_run-01_branch.npy',\n",
       " 'PTZ-WILDTYPE-07_2photon_sess-01-6dpf_PTZ05_run-01_branch.npy',\n",
       " 'PTZ-WILDTYPE-07_2photon_sess-01-6dpf_PTZ20_run-01_branch.npy',\n",
       " 'PTZ-WILDTYPE-08_2photon_sess-01-6dpf_BLN_run-01_branch.npy',\n",
       " 'PTZ-WILDTYPE-08_2photon_sess-01-6dpf_PTZ05_run-01_branch.npy',\n",
       " 'PTZ-WILDTYPE-08_2photon_sess-01-6dpf_PTZ20_run-01_branch.npy',\n",
       " 'PTZ-WILDTYPE-09_2photon_sess-01-6dpf_BLN_run-01_branch.npy',\n",
       " 'PTZ-WILDTYPE-09_2photon_sess-01-6dpf_PTZ05_run-01_branch.npy',\n",
       " 'PTZ-WILDTYPE-09_2photon_sess-01-6dpf_PTZ20_run-01_branch.npy',\n",
       " 'PTZ-WILDTYPE-10_2photon_sess-01-6dpf_BLN_run-01_branch.npy',\n",
       " 'PTZ-WILDTYPE-10_2photon_sess-01-6dpf_PTZ05_run-01_branch.npy',\n",
       " 'PTZ-WILDTYPE-10_2photon_sess-01-6dpf_PTZ20_run-01_branch.npy',\n",
       " 'PTZ-WILDTYPE-11_2photon_sess-01-6dpf_BLN_run-01_branch.npy',\n",
       " 'PTZ-WILDTYPE-11_2photon_sess-01-6dpf_PTZ05_run-01_branch.npy',\n",
       " 'PTZ-WILDTYPE-11_2photon_sess-01-6dpf_PTZ20_run-01_branch.npy',\n",
       " 'PTZ-WILDTYPE-12_2photon_sess-01-6dpf_BLN_run-09_branch.npy']"
      ]
     },
     "execution_count": 113,
     "metadata": {},
     "output_type": "execute_result"
    }
   ],
   "source": [
    "# PLOT - average whole brain fluorescence\n",
    "#----------------------------------------\n",
    "experiment = 'PTZ-WILDTYPE'\n",
    "os.chdir(Fdrop + 'Project/' + experiment)\n",
    "traceli = sorted(glob.glob('*_realtrace.npy'))\n",
    "cuttraceli = sorted(glob.glob('*_cutrealtrace.npy'))\n",
    "branchli =  sorted(glob.glob('*_branch.npy'))\n",
    "branchli"
   ]
  },
  {
   "cell_type": "code",
   "execution_count": 5,
   "metadata": {},
   "outputs": [],
   "source": [
    "nums = adfn.name(F10t, experiment, 2, 12)\n",
    "for i in range(320):\n",
    "    for t in nums:\n",
    "        itav = sorted(glob.glob('*E-' + str(t) + '*nnbpkg.npy*')) "
   ]
  },
  {
   "cell_type": "code",
   "execution_count": null,
   "metadata": {},
   "outputs": [],
   "source": [
    "shape = 320\n",
    "nums = adfn.name(F10t, experiment, 2, 12)\n",
    "combined = list(range(shape))\n",
    "for i in range(shape):\n",
    "    for t in nums:\n",
    "        itav = sorted(glob.glob('*E-' + str(t) + '*nnbpkg.npy*')) \n",
    "        combined[i] = np.append(combined[i], np.load(itav[i])[0])\n",
    "\n",
    "\n",
    "\n",
    "    "
   ]
  },
  {
   "cell_type": "code",
   "execution_count": 14,
   "metadata": {},
   "outputs": [
    {
     "data": {
      "text/plain": [
       "(6826, 4914)"
      ]
     },
     "execution_count": 14,
     "metadata": {},
     "output_type": "execute_result"
    }
   ],
   "source": [
    "prac = np.load(itav[0])\n",
    "prac1 = np.load(itav[1])\n",
    "prac1.shape"
   ]
  },
  {
   "cell_type": "code",
   "execution_count": 29,
   "metadata": {},
   "outputs": [
    {
     "data": {
      "text/plain": [
       "(6826, 44226)"
      ]
     },
     "execution_count": 29,
     "metadata": {},
     "output_type": "execute_result"
    }
   ],
   "source": [
    "pracme.shape"
   ]
  },
  {
   "cell_type": "code",
   "execution_count": 30,
   "metadata": {},
   "outputs": [],
   "source": [
    "pracme = np.hstack((pracme,prac1))"
   ]
  },
  {
   "cell_type": "code",
   "execution_count": 33,
   "metadata": {},
   "outputs": [],
   "source": [
    "itav = sorted(glob.glob('*E-' + str(t) + '*nnbav.npy*')) "
   ]
  },
  {
   "cell_type": "code",
   "execution_count": 38,
   "metadata": {},
   "outputs": [
    {
     "data": {
      "text/plain": [
       "20"
      ]
     },
     "execution_count": 38,
     "metadata": {},
     "output_type": "execute_result"
    }
   ],
   "source": [
    "np.max(durprac)"
   ]
  },
  {
   "cell_type": "code",
   "execution_count": 46,
   "metadata": {},
   "outputs": [
    {
     "ename": "IndexError",
     "evalue": "index 0 is out of bounds for axis 0 with size 0",
     "output_type": "error",
     "traceback": [
      "\u001b[0;31m---------------------------------------------------------------------------\u001b[0m",
      "\u001b[0;31mIndexError\u001b[0m                                Traceback (most recent call last)",
      "\u001b[0;32m<ipython-input-46-f805b4b04d6d>\u001b[0m in \u001b[0;36m<module>\u001b[0;34m\u001b[0m\n\u001b[1;32m     25\u001b[0m             \u001b[0mdescend\u001b[0m \u001b[0;34m=\u001b[0m \u001b[0mnp\u001b[0m\u001b[0;34m.\u001b[0m\u001b[0munique\u001b[0m\u001b[0;34m(\u001b[0m\u001b[0mpkg\u001b[0m\u001b[0;34m[\u001b[0m\u001b[0;34m:\u001b[0m\u001b[0;34m,\u001b[0m\u001b[0mt\u001b[0m\u001b[0;34m+\u001b[0m\u001b[0;36m1\u001b[0m\u001b[0;34m]\u001b[0m\u001b[0;34m,\u001b[0m \u001b[0mreturn_counts\u001b[0m \u001b[0;34m=\u001b[0m \u001b[0;32mTrue\u001b[0m\u001b[0;34m)\u001b[0m\u001b[0;34m[\u001b[0m\u001b[0;36m1\u001b[0m\u001b[0;34m]\u001b[0m\u001b[0;34m[\u001b[0m\u001b[0mnp\u001b[0m\u001b[0;34m.\u001b[0m\u001b[0mwhere\u001b[0m\u001b[0;34m(\u001b[0m\u001b[0mnp\u001b[0m\u001b[0;34m.\u001b[0m\u001b[0munique\u001b[0m\u001b[0;34m(\u001b[0m\u001b[0mpkg\u001b[0m\u001b[0;34m[\u001b[0m\u001b[0;34m:\u001b[0m\u001b[0;34m,\u001b[0m\u001b[0mt\u001b[0m\u001b[0;34m+\u001b[0m\u001b[0;36m1\u001b[0m\u001b[0;34m]\u001b[0m\u001b[0;34m,\u001b[0m \u001b[0mreturn_counts\u001b[0m \u001b[0;34m=\u001b[0m \u001b[0;32mTrue\u001b[0m\u001b[0;34m)\u001b[0m\u001b[0;34m[\u001b[0m\u001b[0;36m0\u001b[0m\u001b[0;34m]\u001b[0m \u001b[0;34m==\u001b[0m \u001b[0mmark\u001b[0m\u001b[0;34m)\u001b[0m\u001b[0;34m[\u001b[0m\u001b[0;36m0\u001b[0m\u001b[0;34m]\u001b[0m\u001b[0;34m]\u001b[0m\u001b[0;34m[\u001b[0m\u001b[0;36m0\u001b[0m\u001b[0;34m]\u001b[0m \u001b[0;31m#same as above for next time point\u001b[0m\u001b[0;34m\u001b[0m\u001b[0m\n\u001b[1;32m     26\u001b[0m             \u001b[0;31m#index = np.where(indexlist == mark)[0] #find index in brancharr list\u001b[0m\u001b[0;34m\u001b[0m\u001b[0;34m\u001b[0m\u001b[0m\n\u001b[0;32m---> 27\u001b[0;31m             \u001b[0mbrancharr\u001b[0m\u001b[0;34m[\u001b[0m\u001b[0mmark\u001b[0m\u001b[0;34m,\u001b[0m \u001b[0mnp\u001b[0m\u001b[0;34m.\u001b[0m\u001b[0mwhere\u001b[0m\u001b[0;34m(\u001b[0m\u001b[0mbrancharr\u001b[0m\u001b[0;34m[\u001b[0m\u001b[0mmark\u001b[0m\u001b[0;34m]\u001b[0m \u001b[0;34m==\u001b[0m \u001b[0;36m0\u001b[0m\u001b[0;34m)\u001b[0m\u001b[0;34m[\u001b[0m\u001b[0;36m0\u001b[0m\u001b[0;34m]\u001b[0m\u001b[0;34m[\u001b[0m\u001b[0;36m0\u001b[0m\u001b[0;34m]\u001b[0m\u001b[0;34m]\u001b[0m \u001b[0;34m=\u001b[0m \u001b[0;34m(\u001b[0m\u001b[0mdescend\u001b[0m\u001b[0;34m/\u001b[0m\u001b[0mancestor\u001b[0m\u001b[0;34m)\u001b[0m\u001b[0;34m\u001b[0m\u001b[0m\n\u001b[0m",
      "\u001b[0;31mIndexError\u001b[0m: index 0 is out of bounds for axis 0 with size 0"
     ]
    }
   ],
   "source": [
    "#CALCULATE BRANCHING RATIO\n",
    "\n",
    "import numpy as np\n",
    "import os\n",
    "\n",
    "\n",
    "for y in range(1):\n",
    "    pkg = pracme\n",
    "    brancharr = np.zeros((np.int(np.max(pkg)), np.max(np.max(durprac))))\n",
    "    #brancharr = np.zeros((np.load(avlist[y])[1].shape[0], np.max(np.load(avlist[y])[1]))) #empty array of size: number of avalanches x max number of frames\n",
    "    #indexlist = np.unique(pkg)[np.where(np.unique(pkg,return_counts = True)[1][1:] >=3)[0]] #list of all avalanche marker values >=3, ordered - index can be used for filling brancharr in order\n",
    "    i = 0\n",
    "        \n",
    "    for t in range(pkg.shape[1]): #loop through all time points\n",
    "        if t == pkg.shape[1]-1:\n",
    "            break\n",
    "        n1 = np.unique(pkg[:,t])  #unique marker values at each time point\n",
    "        n2 = np.unique(pkg[:,t+1]) \n",
    "        nx = np.intersect1d(n1, n2) #marker values that continue to next time frame\n",
    "    \n",
    "\n",
    "        for mark in nx[1:]: #loop through each marker value at this time point (only if marker active in next time point)\n",
    "            mark = np.int(mark)\n",
    "            ancestor = np.unique(pkg[:,t], return_counts = True)[1][np.where(np.unique(pkg[:,t], return_counts = True)[0] == mark)[0]][0] #number of cells in that avalanche for that marker value at time point t  \n",
    "            descend = np.unique(pkg[:,t+1], return_counts = True)[1][np.where(np.unique(pkg[:,t+1], return_counts = True)[0] == mark)[0]][0] #same as above for next time point\n",
    "            #index = np.where(indexlist == mark)[0] #find index in brancharr list\n",
    "            brancharr[mark, np.where(brancharr[mark] == 0)[0][0]] = (descend/ancestor)"
   ]
  },
  {
   "cell_type": "code",
   "execution_count": 117,
   "metadata": {},
   "outputs": [
    {
     "data": {
      "text/plain": [
       "['PTZ-WILDTYPE-02_2photon_sess-01-6dpf_BLN_run-01_branch.npy',\n",
       " 'PTZ-WILDTYPE-02_2photon_sess-01-6dpf_PTZ05_run-01_branch.npy',\n",
       " 'PTZ-WILDTYPE-02_2photon_sess-01-6dpf_PTZ20_run-01_branch.npy',\n",
       " 'PTZ-WILDTYPE-03_2photon_sess-01-6dpf_BLN_run-01_branch.npy',\n",
       " 'PTZ-WILDTYPE-03_2photon_sess-01-6dpf_PTZ05_run-01_branch.npy',\n",
       " 'PTZ-WILDTYPE-03_2photon_sess-01-6dpf_PTZ20_run-01_branch.npy',\n",
       " 'PTZ-WILDTYPE-04_2photon_sess-01-6dpf_BLN_run-01_branch.npy',\n",
       " 'PTZ-WILDTYPE-04_2photon_sess-01-6dpf_PTZ05_run-01_branch.npy',\n",
       " 'PTZ-WILDTYPE-04_2photon_sess-01-6dpf_PTZ20_run-01_branch.npy',\n",
       " 'PTZ-WILDTYPE-05_2photon_sess-01-6dpf_BLN_run-01_branch.npy',\n",
       " 'PTZ-WILDTYPE-05_2photon_sess-01-6dpf_PTZ05_run-01_branch.npy',\n",
       " 'PTZ-WILDTYPE-05_2photon_sess-01-6dpf_PTZ20_run-01_branch.npy',\n",
       " 'PTZ-WILDTYPE-06_2photon_sess-01-6dpf_BLN_run-01_branch.npy',\n",
       " 'PTZ-WILDTYPE-06_2photon_sess-01-6dpf_PTZ05_run-01_branch.npy',\n",
       " 'PTZ-WILDTYPE-06_2photon_sess-01-6dpf_PTZ20_run-01_branch.npy',\n",
       " 'PTZ-WILDTYPE-07_2photon_sess-01-6dpf_BLN_run-01_branch.npy',\n",
       " 'PTZ-WILDTYPE-07_2photon_sess-01-6dpf_PTZ05_run-01_branch.npy',\n",
       " 'PTZ-WILDTYPE-07_2photon_sess-01-6dpf_PTZ20_run-01_branch.npy',\n",
       " 'PTZ-WILDTYPE-08_2photon_sess-01-6dpf_BLN_run-01_branch.npy',\n",
       " 'PTZ-WILDTYPE-08_2photon_sess-01-6dpf_PTZ05_run-01_branch.npy',\n",
       " 'PTZ-WILDTYPE-08_2photon_sess-01-6dpf_PTZ20_run-01_branch.npy',\n",
       " 'PTZ-WILDTYPE-09_2photon_sess-01-6dpf_BLN_run-01_branch.npy',\n",
       " 'PTZ-WILDTYPE-09_2photon_sess-01-6dpf_PTZ05_run-01_branch.npy',\n",
       " 'PTZ-WILDTYPE-09_2photon_sess-01-6dpf_PTZ20_run-01_branch.npy',\n",
       " 'PTZ-WILDTYPE-10_2photon_sess-01-6dpf_BLN_run-01_branch.npy',\n",
       " 'PTZ-WILDTYPE-10_2photon_sess-01-6dpf_PTZ05_run-01_branch.npy',\n",
       " 'PTZ-WILDTYPE-10_2photon_sess-01-6dpf_PTZ20_run-01_branch.npy',\n",
       " 'PTZ-WILDTYPE-11_2photon_sess-01-6dpf_BLN_run-01_branch.npy',\n",
       " 'PTZ-WILDTYPE-11_2photon_sess-01-6dpf_PTZ05_run-01_branch.npy',\n",
       " 'PTZ-WILDTYPE-11_2photon_sess-01-6dpf_PTZ20_run-01_branch.npy']"
      ]
     },
     "execution_count": 117,
     "metadata": {},
     "output_type": "execute_result"
    }
   ],
   "source": [
    "# PLOT - average whole brain fluorescence\n",
    "#----------------------------------------\n",
    "experiment = 'PTZ-WILDTYPE'\n",
    "os.chdir(Fdrop + 'Project/' + experiment)\n",
    "pkglist = sorted(glob.glob('*590*nnbpkg*'))\n",
    "avlist = sorted(glob.glob('*590*nnbav.npy'))\n",
    "branchli = branchli[:30]\n",
    "branchli"
   ]
  },
  {
   "cell_type": "code",
   "execution_count": 122,
   "metadata": {},
   "outputs": [
    {
     "data": {
      "text/html": [
       "<div>\n",
       "<style scoped>\n",
       "    .dataframe tbody tr th:only-of-type {\n",
       "        vertical-align: middle;\n",
       "    }\n",
       "\n",
       "    .dataframe tbody tr th {\n",
       "        vertical-align: top;\n",
       "    }\n",
       "\n",
       "    .dataframe thead th {\n",
       "        text-align: right;\n",
       "    }\n",
       "</style>\n",
       "<table border=\"1\" class=\"dataframe\">\n",
       "  <thead>\n",
       "    <tr style=\"text-align: right;\">\n",
       "      <th></th>\n",
       "      <th>Baseline</th>\n",
       "      <th>PTZ 5mM</th>\n",
       "      <th>PTZ 20mM</th>\n",
       "    </tr>\n",
       "  </thead>\n",
       "  <tbody>\n",
       "    <tr>\n",
       "      <th>0</th>\n",
       "      <td>0.9325198411636463</td>\n",
       "      <td>0.9744962722452851</td>\n",
       "      <td>0.9720122732985761</td>\n",
       "    </tr>\n",
       "    <tr>\n",
       "      <th>1</th>\n",
       "      <td>1.0422465847528386</td>\n",
       "      <td>1.0336715423609257</td>\n",
       "      <td>0.9999828260902698</td>\n",
       "    </tr>\n",
       "    <tr>\n",
       "      <th>2</th>\n",
       "      <td>0.9200221967735909</td>\n",
       "      <td>0.9138103969554656</td>\n",
       "      <td>0.9664180104355614</td>\n",
       "    </tr>\n",
       "    <tr>\n",
       "      <th>3</th>\n",
       "      <td>0.9420368649218411</td>\n",
       "      <td>0.9542786255515467</td>\n",
       "      <td>0.9733301803717459</td>\n",
       "    </tr>\n",
       "    <tr>\n",
       "      <th>4</th>\n",
       "      <td>0.7830444783104675</td>\n",
       "      <td>0.9530776727301831</td>\n",
       "      <td>0.9659787036744109</td>\n",
       "    </tr>\n",
       "    <tr>\n",
       "      <th>5</th>\n",
       "      <td>0.8413867206189634</td>\n",
       "      <td>0.879993070201351</td>\n",
       "      <td>0.9779071914400367</td>\n",
       "    </tr>\n",
       "    <tr>\n",
       "      <th>6</th>\n",
       "      <td>0.8712610928905506</td>\n",
       "      <td>0.9207856514805689</td>\n",
       "      <td>1.0026863021269592</td>\n",
       "    </tr>\n",
       "    <tr>\n",
       "      <th>7</th>\n",
       "      <td>0.7563325393079994</td>\n",
       "      <td>0.8022167381350888</td>\n",
       "      <td>1.0203552611792992</td>\n",
       "    </tr>\n",
       "    <tr>\n",
       "      <th>8</th>\n",
       "      <td>0.9257868069224576</td>\n",
       "      <td>0.9634997608747389</td>\n",
       "      <td>0.9925463639066433</td>\n",
       "    </tr>\n",
       "    <tr>\n",
       "      <th>9</th>\n",
       "      <td>0.7992104122650198</td>\n",
       "      <td>0.8952687916485922</td>\n",
       "      <td>0.9359435447860364</td>\n",
       "    </tr>\n",
       "  </tbody>\n",
       "</table>\n",
       "</div>"
      ],
      "text/plain": [
       "             Baseline             PTZ 5mM            PTZ 20mM\n",
       "0  0.9325198411636463  0.9744962722452851  0.9720122732985761\n",
       "1  1.0422465847528386  1.0336715423609257  0.9999828260902698\n",
       "2  0.9200221967735909  0.9138103969554656  0.9664180104355614\n",
       "3  0.9420368649218411  0.9542786255515467  0.9733301803717459\n",
       "4  0.7830444783104675  0.9530776727301831  0.9659787036744109\n",
       "5  0.8413867206189634   0.879993070201351  0.9779071914400367\n",
       "6  0.8712610928905506  0.9207856514805689  1.0026863021269592\n",
       "7  0.7563325393079994  0.8022167381350888  1.0203552611792992\n",
       "8  0.9257868069224576  0.9634997608747389  0.9925463639066433\n",
       "9  0.7992104122650198  0.8952687916485922  0.9359435447860364"
      ]
     },
     "execution_count": 122,
     "metadata": {},
     "output_type": "execute_result"
    },
    {
     "data": {
      "image/png": "[encoded data removed]",
      "text/plain": [
       "<Figure size 800x800 with 1 Axes>"
      ]
     },
     "metadata": {},
     "output_type": "display_data"
    }
   ],
   "source": [
    "pltfn.boxplot(Fdrop, experiment, branchli, 'Branching ratio')"
   ]
  },
  {
   "cell_type": "code",
   "execution_count": 102,
   "metadata": {},
   "outputs": [
    {
     "data": {
      "text/plain": [
       "[0.9325198411636463,\n",
       " 0.9744962722452851,\n",
       " 0.9720122732985761,\n",
       " 1.0422465847528386,\n",
       " 1.0336715423609257,\n",
       " 0.9999828260902698,\n",
       " 0.9200221967735909,\n",
       " 0.9138103969554656,\n",
       " 0.9664180104355614,\n",
       " 0.9420368649218411,\n",
       " 0.9542786255515467,\n",
       " 0.9733301803717459,\n",
       " 0.7830444783104675,\n",
       " 0.9530776727301831,\n",
       " 0.9659787036744109,\n",
       " 0.8413867206189634,\n",
       " 0.879993070201351,\n",
       " 0.9779071914400367,\n",
       " 0.8712610928905506,\n",
       " 0.9207856514805689,\n",
       " 1.0026863021269592,\n",
       " 0.7563325393079994,\n",
       " 0.8022167381350888,\n",
       " 1.0203552611792992,\n",
       " 0.9257868069224576,\n",
       " 0.9634997608747389,\n",
       " 0.9925463639066433,\n",
       " 0.7992104122650198,\n",
       " 0.8952687916485922,\n",
       " 0.9359435447860364,\n",
       " 0.8952119317468304]"
      ]
     },
     "execution_count": 102,
     "metadata": {},
     "output_type": "execute_result"
    }
   ],
   "source": [
    "branchlist"
   ]
  },
  {
   "cell_type": "markdown",
   "metadata": {},
   "source": [
    "### Sliding window branching ratio - within window, above average for PTZ?\n"
   ]
  },
  {
   "cell_type": "code",
   "execution_count": null,
   "metadata": {},
   "outputs": [],
   "source": [
    "#CALCULATE BRANCHING RATIO\n",
    "\n",
    "import numpy as np\n",
    "import os\n",
    "\n",
    "branchlist = list(range(len(pkglist)))\n",
    "    \n",
    "for y in range(len(pkglist)):\n",
    "    pkg = np.load(pkglist[y])\n",
    "    brancharr = np.zeros((np.int(np.max(pkg)), np.max(np.load(avlist[y])[1])))\n",
    "    #brancharr = np.zeros((np.load(avlist[y])[1].shape[0], np.max(np.load(avlist[y])[1]))) #empty array of size: number of avalanches x max number of frames\n",
    "    #indexlist = np.unique(pkg)[np.where(np.unique(pkg,return_counts = True)[1][1:] >=3)[0]] #list of all avalanche marker values >=3, ordered - index can be used for filling brancharr in order\n",
    "    i = 0\n",
    "        \n",
    "    for t in range(pkg.shape[1]): #loop through all time points\n",
    "        if t == pkg.shape[1]-1:\n",
    "            break\n",
    "        n1 = np.unique(pkg[:,t])  #unique marker values at each time point\n",
    "        n2 = np.unique(pkg[:,t+1]) \n",
    "        nx = np.intersect1d(n1, n2) #marker values that continue to next time frame\n",
    "    \n",
    "        if i% round(10*pkg.shape[1]/100) == 0: print('doing time step ' + str(i) + ' of ' + str(pkg.shape[1]) + ' for fish ' + str(y))\n",
    "        i = i+1\n",
    "\n",
    "        for mark in nx[1:]: #loop through each marker value at this time point (only if marker active in next time point)\n",
    "            if mark == brancharr.shape[0]:\n",
    "                continue\n",
    "            mark = np.int(mark)\n",
    "            ancestor = np.unique(pkg[:,t], return_counts = True)[1][np.where(np.unique(pkg[:,t], return_counts = True)[0] == mark)[0]][0] #number of cells in that avalanche for that marker value at time point t  \n",
    "            descend = np.unique(pkg[:,t+1], return_counts = True)[1][np.where(np.unique(pkg[:,t+1], return_counts = True)[0] == mark)[0]][0] #same as above for next time point\n",
    "            #index = np.where(indexlist == mark)[0] #find index in brancharr list\n",
    "            brancharr[mark, np.where(brancharr[mark] == 0)[0][0]] = (descend/ancestor)\n",
    "    branchlist[y] = np.mean(brancharr[np.where(brancharr > 0)])"
   ]
  },
  {
   "cell_type": "code",
   "execution_count": 52,
   "metadata": {},
   "outputs": [
    {
     "data": {
      "text/plain": [
       "array([[0., 0., 0., ..., 0., 0., 0.],\n",
       "       [0., 0., 0., ..., 0., 0., 0.],\n",
       "       [0., 0., 0., ..., 0., 0., 0.],\n",
       "       ...,\n",
       "       [1., 0., 0., ..., 0., 0., 0.],\n",
       "       [0., 0., 0., ..., 0., 0., 0.],\n",
       "       [0., 0., 0., ..., 0., 0., 0.]])"
      ]
     },
     "execution_count": 52,
     "metadata": {},
     "output_type": "execute_result"
    }
   ],
   "source": [
    "brancharr"
   ]
  },
  {
   "cell_type": "code",
   "execution_count": null,
   "metadata": {},
   "outputs": [],
   "source": [
    "shape = 320\n",
    "nums = adfn.name(F10t, experiment, 2, 12)\n",
    "combined = list(range(shape))\n",
    "for i in range(shape):\n",
    "    for t in nums:\n",
    "        itav = sorted(glob.glob('*E-' + str(t) + '*nnbav.npy*')) \n",
    "        combined[i] = np.append(combined[i], np.load(itav[i])[0])\n",
    "\n",
    "avlist = list(range(shape))   \n",
    "for i in range(len(combined)): \n",
    "    avlist[i] = powerfit(Fdrop, experiment, np.load(combined[i]))\n",
    "np.save(Fdrop + 'Project/' + experiment + os.sep + itav[i][:itav[i].find('run')+6] + 'sizeparamsweepp_log+', avlist)"
   ]
  }
 ],
 "metadata": {
  "kernelspec": {
   "display_name": "Python 3",
   "language": "python",
   "name": "python3"
  },
  "language_info": {
   "codemirror_mode": {
    "name": "ipython",
    "version": 3
   },
   "file_extension": ".py",
   "mimetype": "text/x-python",
   "name": "python",
   "nbconvert_exporter": "python",
   "pygments_lexer": "ipython3",
   "version": "3.7.0"
  }
 },
 "nbformat": 4,
 "nbformat_minor": 2
}
